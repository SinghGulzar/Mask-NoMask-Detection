{
 "cells": [
  {
   "cell_type": "code",
   "execution_count": 1,
   "id": "712cd5a8",
   "metadata": {},
   "outputs": [],
   "source": [
    "import pandas as pd\n",
    "import matplotlib.pyplot as plt\n",
    "import numpy as np\n",
    "import seaborn as sns\n",
    "from sklearn.model_selection import train_test_split"
   ]
  },
  {
   "cell_type": "code",
   "execution_count": 2,
   "id": "20c3eb58",
   "metadata": {},
   "outputs": [],
   "source": [
    "import tensorflow as tf\n",
    "import keras\n",
    "from keras.models  import Sequential\n",
    "from keras.layers  import Conv2D,MaxPool2D,Flatten,Dense,Dropout\n",
    "from tensorflow.keras.utils import to_categorical\n",
    "import os\n",
    "import cv2"
   ]
  },
  {
   "cell_type": "code",
   "execution_count": 3,
   "id": "10ecff59",
   "metadata": {},
   "outputs": [],
   "source": [
    "path1=r\"E:\\mask_nomask\"\n",
    "cate=[\"mask\",\"no_mask\"]"
   ]
  },
  {
   "cell_type": "code",
   "execution_count": 4,
   "id": "7759c404",
   "metadata": {},
   "outputs": [
    {
     "name": "stdout",
     "output_type": "stream",
     "text": [
      "value of label is 0\n",
      "value of label is 1\n"
     ]
    }
   ],
   "source": [
    "image_size=200\n",
    "input_image=[]\n",
    "for i in cate:\n",
    "    folders=os.path.join(path1,i)                              #access folder\n",
    "    label=cate.index(i)                                        # telling software which image is of masked and which of no_mask\n",
    "    print(\"value of label is\",label)\n",
    "    for image in os.listdir(folders):\n",
    "        image_path=os.path.join(folders,image)                 #access images in file\n",
    "        image_array=cv2.imread(image_path)                     # using cv2 i am reading image and storing in variable image_array\n",
    "        image_array=cv2.resize(image_array,(image_size,image_size))#re-sizeing image\n",
    "        input_image.append([image_array,label])"
   ]
  },
  {
   "cell_type": "code",
   "execution_count": 5,
   "id": "f9f1a233",
   "metadata": {},
   "outputs": [
    {
     "data": {
      "text/plain": [
       "576"
      ]
     },
     "execution_count": 5,
     "metadata": {},
     "output_type": "execute_result"
    }
   ],
   "source": [
    "len(input_image)"
   ]
  },
  {
   "cell_type": "code",
   "execution_count": 6,
   "id": "e10ec8aa",
   "metadata": {},
   "outputs": [
    {
     "data": {
      "text/plain": [
       "[array([[[ 38,  35,  21],\n",
       "         [ 38,  35,  21],\n",
       "         [ 38,  35,  21],\n",
       "         ...,\n",
       "         [154, 149, 122],\n",
       "         [192, 188, 160],\n",
       "         [192, 188, 160]],\n",
       " \n",
       "        [[ 38,  35,  21],\n",
       "         [ 38,  35,  21],\n",
       "         [ 38,  35,  21],\n",
       "         ...,\n",
       "         [147, 142, 115],\n",
       "         [182, 178, 150],\n",
       "         [182, 178, 150]],\n",
       " \n",
       "        [[ 38,  35,  21],\n",
       "         [ 38,  35,  21],\n",
       "         [ 38,  35,  21],\n",
       "         ...,\n",
       "         [132, 127, 101],\n",
       "         [162, 157, 132],\n",
       "         [162, 157, 132]],\n",
       " \n",
       "        ...,\n",
       " \n",
       "        [[ 33,  25,   9],\n",
       "         [ 33,  25,   9],\n",
       "         [ 35,  27,  11],\n",
       "         ...,\n",
       "         [ 10,  14,  11],\n",
       "         [  7,  12,   9],\n",
       "         [  7,  12,   9]],\n",
       " \n",
       "        [[ 34,  26,  11],\n",
       "         [ 34,  26,  11],\n",
       "         [ 36,  27,  12],\n",
       "         ...,\n",
       "         [ 13,  16,  12],\n",
       "         [ 12,  17,  12],\n",
       "         [ 12,  17,  12]],\n",
       " \n",
       "        [[ 35,  26,  12],\n",
       "         [ 35,  26,  12],\n",
       "         [ 36,  27,  13],\n",
       "         ...,\n",
       "         [ 14,  17,  13],\n",
       "         [ 15,  19,  14],\n",
       "         [ 15,  19,  14]]], dtype=uint8),\n",
       " 0]"
      ]
     },
     "execution_count": 6,
     "metadata": {},
     "output_type": "execute_result"
    }
   ],
   "source": [
    "input_image[0]"
   ]
  },
  {
   "cell_type": "code",
   "execution_count": 7,
   "id": "56fdd4ec",
   "metadata": {},
   "outputs": [
    {
     "data": {
      "text/plain": [
       "[array([[[ 63,  90, 104],\n",
       "         [ 63,  90, 104],\n",
       "         [ 64,  91, 105],\n",
       "         ...,\n",
       "         [ 24,  28,  57],\n",
       "         [ 23,  27,  56],\n",
       "         [ 23,  27,  56]],\n",
       " \n",
       "        [[ 62,  89, 103],\n",
       "         [ 63,  90, 104],\n",
       "         [ 63,  90, 104],\n",
       "         ...,\n",
       "         [ 25,  29,  57],\n",
       "         [ 24,  28,  56],\n",
       "         [ 24,  28,  56]],\n",
       " \n",
       "        [[ 62,  89, 103],\n",
       "         [ 62,  89, 103],\n",
       "         [ 63,  90, 104],\n",
       "         ...,\n",
       "         [ 24,  30,  55],\n",
       "         [ 24,  29,  55],\n",
       "         [ 23,  29,  55]],\n",
       " \n",
       "        ...,\n",
       " \n",
       "        [[110, 140, 204],\n",
       "         [103, 134, 198],\n",
       "         [ 94, 124, 188],\n",
       "         ...,\n",
       "         [239, 230, 230],\n",
       "         [241, 231, 231],\n",
       "         [242, 231, 232]],\n",
       " \n",
       "        [[108, 137, 203],\n",
       "         [102, 132, 198],\n",
       "         [ 95, 124, 190],\n",
       "         ...,\n",
       "         [242, 229, 229],\n",
       "         [242, 229, 229],\n",
       "         [243, 229, 230]],\n",
       " \n",
       "        [[107, 136, 203],\n",
       "         [103, 131, 199],\n",
       "         [ 96, 125, 192],\n",
       "         ...,\n",
       "         [242, 229, 227],\n",
       "         [243, 228, 228],\n",
       "         [244, 228, 229]]], dtype=uint8),\n",
       " 1]"
      ]
     },
     "execution_count": 7,
     "metadata": {},
     "output_type": "execute_result"
    }
   ],
   "source": [
    "input_image[500]"
   ]
  },
  {
   "cell_type": "code",
   "execution_count": 15,
   "id": "82fe54b4",
   "metadata": {},
   "outputs": [],
   "source": [
    "#shuffling image to reduce order bias\n",
    "np.random.shuffle(input_image)"
   ]
  },
  {
   "cell_type": "code",
   "execution_count": 16,
   "id": "201d807b",
   "metadata": {},
   "outputs": [],
   "source": [
    "#till this point x & y values are together, lets seprate them\n",
    "x=[]\n",
    "y=[]\n",
    "for x_values,labels in input_image:\n",
    "    x.append(x_values)\n",
    "    y.append(labels)"
   ]
  },
  {
   "cell_type": "code",
   "execution_count": 17,
   "id": "453423c0",
   "metadata": {},
   "outputs": [],
   "source": [
    "x=np.array(x)\n",
    "y=np.array(y)"
   ]
  },
  {
   "cell_type": "code",
   "execution_count": 18,
   "id": "e7cf66a5",
   "metadata": {},
   "outputs": [
    {
     "data": {
      "text/plain": [
       "(576, 200, 200, 3)"
      ]
     },
     "execution_count": 18,
     "metadata": {},
     "output_type": "execute_result"
    }
   ],
   "source": [
    "x.shape"
   ]
  },
  {
   "cell_type": "code",
   "execution_count": 19,
   "id": "a0ea727c",
   "metadata": {},
   "outputs": [
    {
     "data": {
      "text/plain": [
       "(576,)"
      ]
     },
     "execution_count": 19,
     "metadata": {},
     "output_type": "execute_result"
    }
   ],
   "source": [
    "y.shape"
   ]
  },
  {
   "cell_type": "code",
   "execution_count": 20,
   "id": "0742dd00",
   "metadata": {},
   "outputs": [
    {
     "data": {
      "text/plain": [
       "array([1, 1, 0, 0, 1, 1, 1, 1, 0, 1, 0, 0, 1, 1, 1, 0, 0, 1, 1, 1, 0, 1,\n",
       "       1, 0, 0, 0, 0, 0, 0, 1, 1, 0, 1, 1, 0, 0, 0, 1, 1, 1, 0, 1, 0, 0,\n",
       "       0, 0, 0, 1, 1, 0, 1, 0, 1, 1, 0, 0, 0, 1, 1, 0, 1, 1, 1, 0, 0, 1,\n",
       "       1, 1, 1, 0, 1, 1, 1, 0, 0, 1, 0, 0, 1, 1, 0, 0, 0, 1, 1, 1, 1, 0,\n",
       "       0, 0, 1, 1, 0, 1, 0, 1, 0, 0, 1, 1, 1, 0, 1, 0, 1, 1, 0, 1, 0, 0,\n",
       "       1, 0, 1, 0, 1, 0, 0, 1, 0, 0, 1, 1, 0, 1, 1, 1, 1, 1, 1, 0, 0, 1,\n",
       "       0, 1, 1, 0, 1, 1, 1, 0, 1, 0, 1, 1, 1, 1, 0, 1, 0, 0, 1, 0, 1, 1,\n",
       "       1, 1, 0, 0, 0, 0, 1, 1, 0, 0, 1, 1, 1, 0, 1, 1, 1, 1, 1, 1, 1, 0,\n",
       "       0, 0, 0, 0, 1, 0, 0, 0, 0, 0, 1, 1, 1, 0, 0, 0, 0, 1, 1, 1, 1, 1,\n",
       "       0, 1, 0, 1, 1, 0, 1, 1, 1, 0, 0, 0, 0, 0, 0, 1, 0, 0, 0, 1, 1, 1,\n",
       "       0, 1, 1, 0, 1, 0, 1, 0, 0, 0, 1, 0, 1, 1, 0, 1, 0, 1, 1, 1, 0, 1,\n",
       "       0, 0, 1, 0, 1, 1, 0, 1, 0, 1, 1, 0, 0, 1, 0, 0, 0, 0, 1, 1, 1, 1,\n",
       "       1, 1, 0, 1, 1, 1, 1, 1, 0, 1, 1, 1, 0, 1, 1, 0, 1, 0, 1, 1, 0, 1,\n",
       "       1, 1, 1, 0, 1, 1, 1, 0, 1, 1, 1, 0, 0, 0, 0, 1, 1, 0, 0, 1, 1, 1,\n",
       "       1, 0, 0, 1, 0, 1, 1, 0, 0, 1, 0, 0, 0, 0, 1, 1, 0, 1, 1, 1, 1, 0,\n",
       "       1, 0, 1, 1, 0, 0, 1, 1, 0, 0, 1, 0, 0, 0, 0, 1, 1, 1, 0, 0, 1, 1,\n",
       "       0, 0, 1, 0, 1, 1, 1, 1, 0, 1, 0, 0, 0, 0, 1, 1, 1, 1, 0, 0, 0, 0,\n",
       "       1, 0, 0, 1, 0, 0, 1, 1, 1, 0, 0, 1, 1, 0, 0, 1, 1, 1, 0, 0, 0, 1,\n",
       "       0, 0, 0, 1, 1, 0, 1, 1, 0, 0, 0, 0, 1, 0, 1, 0, 0, 0, 0, 1, 1, 1,\n",
       "       1, 0, 1, 1, 1, 0, 1, 0, 0, 0, 1, 0, 0, 0, 1, 1, 0, 1, 1, 0, 1, 1,\n",
       "       1, 0, 0, 0, 0, 0, 0, 1, 0, 1, 0, 0, 0, 1, 1, 0, 0, 0, 0, 0, 0, 1,\n",
       "       0, 0, 0, 0, 1, 0, 1, 0, 0, 1, 0, 1, 0, 1, 0, 0, 1, 1, 0, 1, 1, 1,\n",
       "       0, 0, 1, 0, 0, 0, 1, 1, 1, 1, 0, 0, 1, 0, 0, 0, 0, 1, 0, 1, 1, 0,\n",
       "       0, 1, 1, 1, 0, 0, 1, 1, 0, 1, 1, 0, 0, 1, 0, 1, 0, 1, 0, 0, 1, 1,\n",
       "       0, 1, 0, 0, 1, 0, 1, 0, 0, 0, 0, 0, 0, 1, 1, 1, 1, 1, 1, 0, 1, 0,\n",
       "       1, 1, 1, 0, 0, 0, 1, 1, 1, 1, 0, 1, 0, 1, 0, 1, 0, 0, 0, 1, 1, 1,\n",
       "       0, 0, 1, 1])"
      ]
     },
     "execution_count": 20,
     "metadata": {},
     "output_type": "execute_result"
    }
   ],
   "source": [
    "y"
   ]
  },
  {
   "cell_type": "code",
   "execution_count": 25,
   "id": "529e30d3",
   "metadata": {},
   "outputs": [
    {
     "data": {
      "text/plain": [
       "<matplotlib.image.AxesImage at 0x1f4e04539a0>"
      ]
     },
     "execution_count": 25,
     "metadata": {},
     "output_type": "execute_result"
    },
    {
     "data": {
      "image/png": "[encoded data removed]",
      "text/plain": [
       "<Figure size 432x288 with 1 Axes>"
      ]
     },
     "metadata": {
      "needs_background": "light"
     },
     "output_type": "display_data"
    }
   ],
   "source": [
    "plt.imshow(x[3])"
   ]
  },
  {
   "cell_type": "code",
   "execution_count": 26,
   "id": "f4d3b4af",
   "metadata": {},
   "outputs": [
    {
     "data": {
      "text/plain": [
       "array([0, 1])"
      ]
     },
     "execution_count": 26,
     "metadata": {},
     "output_type": "execute_result"
    }
   ],
   "source": [
    "np.unique(y)"
   ]
  },
  {
   "cell_type": "code",
   "execution_count": 27,
   "id": "83c90c1f",
   "metadata": {},
   "outputs": [],
   "source": [
    "#normalizing x \n",
    "x=x/255"
   ]
  },
  {
   "cell_type": "code",
   "execution_count": 38,
   "id": "8046183a",
   "metadata": {},
   "outputs": [
    {
     "data": {
      "text/plain": [
       "(576, 200, 200, 3)"
      ]
     },
     "execution_count": 38,
     "metadata": {},
     "output_type": "execute_result"
    }
   ],
   "source": [
    "x.shape"
   ]
  },
  {
   "cell_type": "code",
   "execution_count": 32,
   "id": "d60283c7",
   "metadata": {},
   "outputs": [
    {
     "name": "stderr",
     "output_type": "stream",
     "text": [
      "WARNING:absl:`lr` is deprecated in Keras optimizer, please use `learning_rate` or use the legacy optimizer, e.g.,tf.keras.optimizers.legacy.Adam.\n"
     ]
    }
   ],
   "source": [
    "model1=Sequential()                                               #initialaze the model\n",
    "\n",
    "model1.add(Conv2D(filters=16,kernel_size=(3,3),activation=\"relu\"))#convolutional layer\n",
    "model1.add(MaxPool2D(pool_size=(2, 2)))                           #pooling layer\n",
    "\n",
    "model1.add(Flatten())                                             # flattening data\n",
    "\n",
    "model1.add(Dense(128,activation=\"relu\",input_shape=x.shape[1:]))  #fully connected layer\n",
    "\n",
    "#model1.add(Dropout(0.2))                                         #to avoid overfitting\n",
    "model1.add(Dense(2,activation=\"softmax\"))                         #output layer\n",
    "adam=tf.keras.optimizers.Adam(lr=0.02)                            #assigning learning rate\n",
    "model1.compile(optimizer=adam,loss=\"sparse_categorical_crossentropy\",metrics=[\"accuracy\"])"
   ]
  },
  {
   "cell_type": "code",
   "execution_count": 31,
   "id": "345d47b5",
   "metadata": {},
   "outputs": [
    {
     "name": "stdout",
     "output_type": "stream",
     "text": [
      "Epoch 1/15\n",
      "8/8 [==============================] - 33s 3s/step - loss: 9.6418 - accuracy: 0.5000 - val_loss: 0.9950 - val_accuracy: 0.6897\n",
      "Epoch 2/15\n",
      "8/8 [==============================] - 11s 1s/step - loss: 1.9113 - accuracy: 0.6739 - val_loss: 1.2864 - val_accuracy: 0.7414\n",
      "Epoch 3/15\n",
      "8/8 [==============================] - 10s 1s/step - loss: 0.8047 - accuracy: 0.8391 - val_loss: 0.7235 - val_accuracy: 0.8621\n",
      "Epoch 4/15\n",
      "8/8 [==============================] - 10s 1s/step - loss: 0.3434 - accuracy: 0.9087 - val_loss: 0.3374 - val_accuracy: 0.8707\n",
      "Epoch 5/15\n",
      "8/8 [==============================] - 10s 1s/step - loss: 0.2888 - accuracy: 0.8935 - val_loss: 0.3550 - val_accuracy: 0.9138\n",
      "Epoch 6/15\n",
      "8/8 [==============================] - 10s 1s/step - loss: 0.1539 - accuracy: 0.9630 - val_loss: 0.2868 - val_accuracy: 0.9224\n",
      "Epoch 7/15\n",
      "8/8 [==============================] - 10s 1s/step - loss: 0.0819 - accuracy: 0.9739 - val_loss: 0.2389 - val_accuracy: 0.9397\n",
      "Epoch 8/15\n",
      "8/8 [==============================] - 10s 1s/step - loss: 0.0579 - accuracy: 0.9783 - val_loss: 0.1810 - val_accuracy: 0.9483\n",
      "Epoch 9/15\n",
      "8/8 [==============================] - 10s 1s/step - loss: 0.0680 - accuracy: 0.9848 - val_loss: 0.2219 - val_accuracy: 0.9483\n",
      "Epoch 10/15\n",
      "8/8 [==============================] - 10s 1s/step - loss: 0.0532 - accuracy: 0.9783 - val_loss: 0.2158 - val_accuracy: 0.9483\n",
      "Epoch 11/15\n",
      "8/8 [==============================] - 10s 1s/step - loss: 0.0543 - accuracy: 0.9848 - val_loss: 0.2298 - val_accuracy: 0.9310\n",
      "Epoch 12/15\n",
      "8/8 [==============================] - 10s 1s/step - loss: 0.0387 - accuracy: 0.9935 - val_loss: 0.1377 - val_accuracy: 0.9569\n",
      "Epoch 13/15\n",
      "8/8 [==============================] - 10s 1s/step - loss: 0.0330 - accuracy: 0.9913 - val_loss: 0.2359 - val_accuracy: 0.9224\n",
      "Epoch 14/15\n",
      "8/8 [==============================] - 10s 1s/step - loss: 0.0321 - accuracy: 0.9935 - val_loss: 0.1905 - val_accuracy: 0.9397\n",
      "Epoch 15/15\n",
      "8/8 [==============================] - 10s 1s/step - loss: 0.0281 - accuracy: 0.9935 - val_loss: 0.1825 - val_accuracy: 0.9483\n"
     ]
    },
    {
     "data": {
      "text/plain": [
       "<keras.callbacks.History at 0x1f4da3839d0>"
      ]
     },
     "execution_count": 31,
     "metadata": {},
     "output_type": "execute_result"
    }
   ],
   "source": [
    "model1.fit(x,y, epochs=15,validation_split=0.2,batch_size=64)"
   ]
  },
  {
   "cell_type": "code",
   "execution_count": null,
   "id": "10d52054",
   "metadata": {},
   "outputs": [],
   "source": []
  },
  {
   "cell_type": "code",
   "execution_count": null,
   "id": "cf4f9e10",
   "metadata": {},
   "outputs": [],
   "source": []
  },
  {
   "cell_type": "code",
   "execution_count": null,
   "id": "6ab0ff68",
   "metadata": {},
   "outputs": [],
   "source": []
  }
 ],
 "metadata": {
  "kernelspec": {
   "display_name": "Python 3 (ipykernel)",
   "language": "python",
   "name": "python3"
  },
  "language_info": {
   "codemirror_mode": {
    "name": "ipython",
    "version": 3
   },
   "file_extension": ".py",
   "mimetype": "text/x-python",
   "name": "python",
   "nbconvert_exporter": "python",
   "pygments_lexer": "ipython3",
   "version": "3.9.12"
  }
 },
 "nbformat": 4,
 "nbformat_minor": 5
}
